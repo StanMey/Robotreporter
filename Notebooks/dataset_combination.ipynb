{
 "cells": [
  {
   "cell_type": "markdown",
   "metadata": {},
   "source": [
    "# combining datasets\n",
    "\n",
    "Deze notebook wordt gebruikt om de twee datasets te combineren tot één dataset met als doel het uploaden van deze dataset op Kaggle."
   ]
  },
  {
   "cell_type": "code",
   "execution_count": 1,
   "metadata": {},
   "outputs": [],
   "source": [
    "import csv\n",
    "import pandas as pd"
   ]
  },
  {
   "cell_type": "code",
   "execution_count": 2,
   "metadata": {},
   "outputs": [],
   "source": [
    "# the links with the csv files holding the stock information\n",
    "AMX_csv_90_file = r\"../articles_app/data/AMX_prices_90_days.csv\"\n",
    "AMX_csv_followup_file = r\"../articles_app/data/AMX_prices.csv\""
   ]
  },
  {
   "cell_type": "code",
   "execution_count": 4,
   "metadata": {},
   "outputs": [],
   "source": [
    "# reading in file 1\n",
    "df1 = pd.read_csv(AMX_csv_90_file, sep=\";\")\n",
    "df1[\"date\"] = pd.to_datetime(df1[\"date\"])\n",
    "\n",
    "# reading in file 2\n",
    "df2 = pd.read_csv(AMX_csv_followup_file, sep=\";\")\n",
    "df2[\"date\"] = pd.to_datetime(df2[\"date\"])\n",
    "\n",
    "# combining the dataframes and sorting it\n",
    "df_whole = pd.concat([df1, df2])\n",
    "df_whole.sort_values(by=['date', 'stock'], inplace=True)\n",
    "# saving the file\n",
    "df_whole.to_csv('AMX_stock_prices.csv', index=False, sep=';')"
   ]
  }
 ],
 "metadata": {
  "kernelspec": {
   "display_name": "Python 3",
   "language": "python",
   "name": "python3"
  },
  "language_info": {
   "codemirror_mode": {
    "name": "ipython",
    "version": 3
   },
   "file_extension": ".py",
   "mimetype": "text/x-python",
   "name": "python",
   "nbconvert_exporter": "python",
   "pygments_lexer": "ipython3",
   "version": "3.7.9"
  }
 },
 "nbformat": 4,
 "nbformat_minor": 4
}
