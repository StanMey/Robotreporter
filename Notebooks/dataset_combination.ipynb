{
 "cells": [
  {
   "cell_type": "markdown",
   "metadata": {},
   "source": [
    "# combining datasets\n",
    "\n",
    "Deze notebook wordt gebruikt om de twee datasets te combineren tot één dataset met als doel het uploaden van deze dataset op Kaggle."
   ]
  },
  {
   "cell_type": "code",
   "execution_count": 1,
   "metadata": {},
   "outputs": [],
   "source": [
    "import json\n",
    "import pandas as pd"
   ]
  },
  {
   "cell_type": "code",
   "execution_count": 2,
   "metadata": {},
   "outputs": [],
   "source": [
    "# the links with the csv files holding the stock information\n",
    "AMX_csv_90_file = r\"../articles_app/data/AMX_prices_90_days.csv\"\n",
    "AMX_csv_followup_file = r\"../articles_app/data/AMX_prices.csv\""
   ]
  },
  {
   "cell_type": "code",
   "execution_count": 3,
   "metadata": {},
   "outputs": [],
   "source": [
    "# reading in file 1\n",
    "df1 = pd.read_csv(AMX_csv_90_file, sep=\";\")\n",
    "df1[\"date\"] = pd.to_datetime(df1[\"date\"])\n",
    "\n",
    "# reading in file 2\n",
    "df2 = pd.read_csv(AMX_csv_followup_file, sep=\";\")\n",
    "df2[\"date\"] = pd.to_datetime(df2[\"date\"])\n",
    "\n",
    "# combining the dataframes and sorting it\n",
    "df_whole = pd.concat([df1, df2])"
   ]
  },
  {
   "cell_type": "markdown",
   "metadata": {},
   "source": [
    "Toevoegen van sector per component.  \n",
    "bron:\n",
    "- https://www.aandelencheck.nl/aandelen/"
   ]
  },
  {
   "cell_type": "code",
   "execution_count": 4,
   "metadata": {},
   "outputs": [],
   "source": [
    "sector_file = r\"../articles_app/data/sectorcompany.json\"\n",
    "\n",
    "# load in the sector data and add it to the dataframe\n",
    "with open(sector_file) as f:\n",
    "    sector_info = json.load(f)\n",
    "\n",
    "# apply the sector to component\n",
    "df_whole[\"sector\"] = df_whole[\"stock\"].apply(lambda x: sector_info.get(x))"
   ]
  },
  {
   "cell_type": "markdown",
   "metadata": {},
   "source": [
    "sorteren op basis van datum en aandeel en opslaan naar een csv."
   ]
  },
  {
   "cell_type": "code",
   "execution_count": 5,
   "metadata": {},
   "outputs": [
    {
     "data": {
      "text/html": [
       "<div>\n",
       "<style scoped>\n",
       "    .dataframe tbody tr th:only-of-type {\n",
       "        vertical-align: middle;\n",
       "    }\n",
       "\n",
       "    .dataframe tbody tr th {\n",
       "        vertical-align: top;\n",
       "    }\n",
       "\n",
       "    .dataframe thead th {\n",
       "        text-align: right;\n",
       "    }\n",
       "</style>\n",
       "<table border=\"1\" class=\"dataframe\">\n",
       "  <thead>\n",
       "    <tr style=\"text-align: right;\">\n",
       "      <th></th>\n",
       "      <th>stock</th>\n",
       "      <th>volume</th>\n",
       "      <th>open</th>\n",
       "      <th>high</th>\n",
       "      <th>low</th>\n",
       "      <th>close</th>\n",
       "      <th>date</th>\n",
       "      <th>indexx</th>\n",
       "      <th>sector</th>\n",
       "    </tr>\n",
       "  </thead>\n",
       "  <tbody>\n",
       "    <tr>\n",
       "      <th>89</th>\n",
       "      <td>AALBERTS NV</td>\n",
       "      <td>384429</td>\n",
       "      <td>25.00</td>\n",
       "      <td>25.65</td>\n",
       "      <td>24.75</td>\n",
       "      <td>25.50</td>\n",
       "      <td>2020-01-06</td>\n",
       "      <td>AMX</td>\n",
       "      <td>Industrie</td>\n",
       "    </tr>\n",
       "    <tr>\n",
       "      <th>269</th>\n",
       "      <td>ALTICE EUROPE N.V.</td>\n",
       "      <td>6605201</td>\n",
       "      <td>3.68</td>\n",
       "      <td>3.70</td>\n",
       "      <td>3.48</td>\n",
       "      <td>3.63</td>\n",
       "      <td>2020-01-06</td>\n",
       "      <td>AMX</td>\n",
       "      <td>Telecommunicatie</td>\n",
       "    </tr>\n",
       "    <tr>\n",
       "      <th>359</th>\n",
       "      <td>AMX</td>\n",
       "      <td>0</td>\n",
       "      <td>733.76</td>\n",
       "      <td>723.14</td>\n",
       "      <td>733.40</td>\n",
       "      <td>730.63</td>\n",
       "      <td>2020-01-06</td>\n",
       "      <td>AMX</td>\n",
       "      <td>Index</td>\n",
       "    </tr>\n",
       "    <tr>\n",
       "      <th>179</th>\n",
       "      <td>Air France-KLM</td>\n",
       "      <td>2575235</td>\n",
       "      <td>4.26</td>\n",
       "      <td>4.29</td>\n",
       "      <td>4.14</td>\n",
       "      <td>4.28</td>\n",
       "      <td>2020-01-06</td>\n",
       "      <td>AMX</td>\n",
       "      <td>Transport &amp; logistiek</td>\n",
       "    </tr>\n",
       "    <tr>\n",
       "      <th>449</th>\n",
       "      <td>Aperam</td>\n",
       "      <td>482767</td>\n",
       "      <td>25.24</td>\n",
       "      <td>25.53</td>\n",
       "      <td>24.87</td>\n",
       "      <td>25.36</td>\n",
       "      <td>2020-01-06</td>\n",
       "      <td>AMX</td>\n",
       "      <td>Basismaterialen</td>\n",
       "    </tr>\n",
       "  </tbody>\n",
       "</table>\n",
       "</div>"
      ],
      "text/plain": [
       "                  stock   volume    open    high     low   close       date  \\\n",
       "89          AALBERTS NV   384429   25.00   25.65   24.75   25.50 2020-01-06   \n",
       "269  ALTICE EUROPE N.V.  6605201    3.68    3.70    3.48    3.63 2020-01-06   \n",
       "359                 AMX        0  733.76  723.14  733.40  730.63 2020-01-06   \n",
       "179      Air France-KLM  2575235    4.26    4.29    4.14    4.28 2020-01-06   \n",
       "449              Aperam   482767   25.24   25.53   24.87   25.36 2020-01-06   \n",
       "\n",
       "    indexx                 sector  \n",
       "89     AMX              Industrie  \n",
       "269    AMX       Telecommunicatie  \n",
       "359    AMX                  Index  \n",
       "179    AMX  Transport & logistiek  \n",
       "449    AMX        Basismaterialen  "
      ]
     },
     "execution_count": 5,
     "metadata": {},
     "output_type": "execute_result"
    }
   ],
   "source": [
    "df_whole.sort_values(by=['date', 'stock'], inplace=True)\n",
    "df_whole.head()"
   ]
  },
  {
   "cell_type": "code",
   "execution_count": 6,
   "metadata": {},
   "outputs": [],
   "source": [
    "# saving the file\n",
    "df_whole.to_csv('AMX_stock_prices.csv', index=False, sep=';')"
   ]
  }
 ],
 "metadata": {
  "kernelspec": {
   "display_name": "Python 3",
   "language": "python",
   "name": "python3"
  },
  "language_info": {
   "codemirror_mode": {
    "name": "ipython",
    "version": 3
   },
   "file_extension": ".py",
   "mimetype": "text/x-python",
   "name": "python",
   "nbconvert_exporter": "python",
   "pygments_lexer": "ipython3",
   "version": "3.7.9"
  }
 },
 "nbformat": 4,
 "nbformat_minor": 4
}
